{
 "cells": [
  {
   "cell_type": "code",
   "execution_count": null,
   "source": [
    "# import required module.\r\n",
    "import cv2\r\n",
    "import math\r\n",
    "import argparse\r\n",
    "import time\r\n",
    "\r\n",
    "video=cv2.VideoCapture(args.image if args.image else 0)\r\n",
    "padding=20\r\n",
    "while cv2.waitKey(1)<0 :\r\n",
    "    hasFrame,frame=video.read()\r\n",
    "    if not hasFrame:\r\n",
    "        cv2.waitKey()\r\n",
    "        break\r\n",
    "    \r\n",
    "    resultImg,faceBoxes=highlightFace(faceNet,frame)\r\n",
    "    if not faceBoxes:\r\n",
    "        print(\"No face detected\")\r\n",
    "\r\n",
    "    for faceBox in faceBoxes:\r\n",
    "        face=frame[max(0,faceBox[1]-padding):\r\n",
    "                   min(faceBox[3]+padding,frame.shape[0]-1),max(0,faceBox[0]-padding)\r\n",
    "                   :min(faceBox[2]+padding, frame.shape[1]-1)]\r\n",
    "\r\n",
    "        blob=cv2.dnn.blobFromImage(face, 1.0, (227,227), MODEL_MEAN_VALUES, swapRB=False)\r\n",
    "        genderNet.setInput(blob)\r\n",
    "        genderPreds=genderNet.forward()\r\n",
    "        gender=genderList[genderPreds[0].argmax()]\r\n",
    "        print(f'Gender: {gender}')\r\n",
    "\r\n",
    "        ageNet.setInput(blob)\r\n",
    "        agePreds=ageNet.forward()\r\n",
    "        age=ageList[agePreds[0].argmax()]\r\n",
    "        print(f'Age: {age[1:-1]} years')\r\n",
    "\r\n",
    "        cv2.putText(resultImg, f'{gender}, {age}', (faceBox[0], faceBox[1]-10), cv2.FONT_HERSHEY_SIMPLEX, 0.8, (0,255,255), 2, cv2.LINE_AA)\r\n",
    "        cv2.imshow(\"Detecting age and gender\", resultImg)"
   ],
   "outputs": [],
   "metadata": {}
  },
  {
   "cell_type": "markdown",
   "source": [
    "# function created for face detection."
   ],
   "metadata": {}
  },
  {
   "cell_type": "code",
   "execution_count": null,
   "source": [
    "def highlightFace(net, frame, conf_threshold=0.7):\r\n",
    "    frameOpencvDnn=frame.copy()\r\n",
    "    frameHeight=frameOpencvDnn.shape[0]\r\n",
    "    frameWidth=frameOpencvDnn.shape[1]\r\n",
    "    blob=cv2.dnn.blobFromImage(frameOpencvDnn, 1.0, (300, 300), [104, 117, 123], True, False)\r\n",
    "\r\n",
    "    net.setInput(blob)\r\n",
    "    detections=net.forward()\r\n",
    "    faceBoxes=[]\r\n",
    "    for i in range(detections.shape[2]):\r\n",
    "        confidence=detections[0,0,i,2]\r\n",
    "        if confidence>conf_threshold:\r\n",
    "            x1=int(detections[0,0,i,3]*frameWidth)\r\n",
    "            y1=int(detections[0,0,i,4]*frameHeight)\r\n",
    "            x2=int(detections[0,0,i,5]*frameWidth)\r\n",
    "            y2=int(detections[0,0,i,6]*frameHeight)\r\n",
    "            faceBoxes.append([x1,y1,x2,y2])\r\n",
    "            cv2.rectangle(frameOpencvDnn, (x1,y1), (x2,y2), (0,255,0), int(round(frameHeight/150)), 8)\r\n",
    "    return frameOpencvDnn,faceBoxes"
   ],
   "outputs": [],
   "metadata": {}
  },
  {
   "cell_type": "markdown",
   "source": [
    "# Fetching data from the pre-trained dataset. "
   ],
   "metadata": {}
  },
  {
   "cell_type": "code",
   "execution_count": null,
   "source": [
    "faceProto=\"opencv_face_detector.pbtxt\"\r\n",
    "faceModel=\"opencv_face_detector_uint8.pb\"\r\n",
    "ageProto=\"age_deploy.prototxt\"\r\n",
    "ageModel=\"age_net.caffemodel\"\r\n",
    "genderProto=\"gender_deploy.prototxt\"\r\n",
    "genderModel=\"gender_net.caffemodel\"\r\n",
    "\r\n",
    "MODEL_MEAN_VALUES=(78.4263377603, 87.7689143744, 114.895847746)\r\n",
    "ageList=['(0-2)', '(4-6)', '(8-12)', '(15-20)', '(25-32)', '(38-43)', '(48-53)', '(60-100)']\r\n",
    "genderList=['Male','Female']\r\n",
    "\r\n",
    "# load network.\r\n",
    "faceNet=cv2.dnn.readNet(faceModel,faceProto)\r\n",
    "ageNet=cv2.dnn.readNet(ageModel,ageProto)\r\n",
    "genderNet=cv2.dnn.readNet(genderModel,genderProto)"
   ],
   "outputs": [],
   "metadata": {}
  },
  {
   "cell_type": "markdown",
   "source": [
    "# Function created which predict the age and gender of user."
   ],
   "metadata": {}
  },
  {
   "cell_type": "code",
   "execution_count": null,
   "source": [
    "def age_gender_detection(frame):\r\n",
    "    t = time.time()\r\n",
    "    faceFrame, faceBoxes = highlightFace(facenet, frame)\r\n",
    "    for facebox in faceBoxes:\r\n",
    "        face = frame[max(0, facebox[1]-padding): min(faceBoxes[3] + padding, frame.shape[0]-1)]\r\n",
    "        blob = cv2.dnn.blobFromImage(face, 1.0, (277,277),MeanValues, swapRB =False)\r\n",
    "        genderNet.setInput(blob)\r\n",
    "        genderPreds = genderNet.forward()\r\n",
    "        gender = genderList[genderPreds[0]]\r\n",
    "        print(\"Gender output : {}\".format(genderPreds))\r\n",
    "        print(\"Gender : {}, conf ={:.3f}\".format(gender, genderPreds))\r\n",
    "\r\n",
    "        ageNet.setInput(blob)\r\n",
    "        agePreds = ageNet.forward()\r\n",
    "        age = ageList[agePreds[0]]\r\n",
    "        print(\"Age output : {}\".format(agePreds))\r\n",
    "        print(\"Age : {}, conf ={:.3f}\".format(age, agePreds))\r\n",
    "        label = \"{},{}\".format(age,gender)\r\n",
    "        cv2.putText(faceFrame, f'{gender}, {age}', (faceBox[0], faceBox[1]-10), cv2.FONT_HERSHEY_SIMPLEX, 0.8,(0,255,255), 2, cv2.LINE_AA)\r\n",
    "    return faceFrame"
   ],
   "outputs": [],
   "metadata": {}
  },
  {
   "cell_type": "markdown",
   "source": [
    "# function created for cam mode."
   ],
   "metadata": {}
  },
  {
   "cell_type": "code",
   "execution_count": null,
   "source": [
    "video=cv2.VideoCapture(args.image if args.image else 0)\r\n",
    "\r\n",
    "padding=20\r\n",
    "while cv2.waitKey(1)<0 :\r\n",
    "    hasFrame,frame=video.read()\r\n",
    "    if not hasFrame:\r\n",
    "        cv2.waitKey()\r\n",
    "        break\r\n",
    "    \r\n",
    "    resultImg,faceBoxes=highlightFace(faceNet,frame)\r\n",
    "    if not faceBoxes:\r\n",
    "        print(\"No face detected\")\r\n",
    "\r\n",
    "    for faceBox in faceBoxes:\r\n",
    "        face=frame[max(0,faceBox[1]-padding):\r\n",
    "                   min(faceBox[3]+padding,frame.shape[0]-1),max(0,faceBox[0]-padding)\r\n",
    "                   :min(faceBox[2]+padding, frame.shape[1]-1)]\r\n",
    "\r\n",
    "        blob=cv2.dnn.blobFromImage(face, 1.0, (227,227), MODEL_MEAN_VALUES, swapRB=False)\r\n",
    "        genderNet.setInput(blob)\r\n",
    "        genderPreds=genderNet.forward()\r\n",
    "        gender=genderList[genderPreds[0].argmax()]\r\n",
    "        print(f'Gender: {gender}')\r\n",
    "\r\n",
    "        ageNet.setInput(blob)\r\n",
    "        agePreds=ageNet.forward()\r\n",
    "        age=ageList[agePreds[0].argmax()]\r\n",
    "        print(f'Age: {age[1:-1]} years')\r\n",
    "\r\n",
    "        cv2.putText(resultImg, f'{gender}, {age}', (faceBox[0], faceBox[1]-10), cv2.FONT_HERSHEY_SIMPLEX, 0.8, (0,255,255), 2, cv2.LINE_AA)\r\n",
    "        cv2.imshow(\"Detecting age and gender\", resultImg)"
   ],
   "outputs": [],
   "metadata": {}
  },
  {
   "cell_type": "markdown",
   "source": [
    "# below mentioned are the testing code."
   ],
   "metadata": {}
  },
  {
   "cell_type": "code",
   "execution_count": null,
   "source": [
    "# Example 1: \r\n",
    "input = cv2.imread('img1.jpg')\r\n",
    "output = age_gender_detection(input)\r\n",
    "cv2.imshow(output)"
   ],
   "outputs": [],
   "metadata": {}
  },
  {
   "cell_type": "code",
   "execution_count": null,
   "source": [
    "# Example 2:\r\n",
    "input = cv2.imread('img2.jpg')\r\n",
    "output = age_gender_detection(input)\r\n",
    "cv2.imshow(output)"
   ],
   "outputs": [],
   "metadata": {}
  },
  {
   "cell_type": "code",
   "execution_count": null,
   "source": [
    "# Example 3:\r\n",
    "input = cv2.imread('img3.jpg')\r\n",
    "output = age_gender_detection(input)\r\n",
    "cv2.imshow(output)"
   ],
   "outputs": [],
   "metadata": {}
  }
 ],
 "metadata": {
  "orig_nbformat": 4,
  "language_info": {
   "name": "python",
   "version": "3.9.6",
   "mimetype": "text/x-python",
   "codemirror_mode": {
    "name": "ipython",
    "version": 3
   },
   "pygments_lexer": "ipython3",
   "nbconvert_exporter": "python",
   "file_extension": ".py"
  },
  "kernelspec": {
   "name": "python3",
   "display_name": "Python 3.9.6 64-bit"
  },
  "interpreter": {
   "hash": "33dc6d49505b4536b6a128d9d7c879e1fa44477ad44947bbbe73093067fe6393"
  }
 },
 "nbformat": 4,
 "nbformat_minor": 2
}